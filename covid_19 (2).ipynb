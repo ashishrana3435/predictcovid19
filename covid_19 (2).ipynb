{
 "cells": [
  {
   "cell_type": "code",
   "execution_count": 96,
   "metadata": {
    "colab": {},
    "colab_type": "code",
    "id": "Lf3zjzcpn0Aj"
   },
   "outputs": [],
   "source": [
    "import numpy as np\n",
    "import pandas as pd\n",
    "from sklearn.preprocessing import StandardScaler\n",
    "from sklearn.linear_model import LinearRegression"
   ]
  },
  {
   "cell_type": "code",
   "execution_count": 97,
   "metadata": {
    "colab": {},
    "colab_type": "code",
    "id": "xg2WIFeFn6eS"
   },
   "outputs": [],
   "source": [
    "train = pd.read_excel(\"Train_dataset.xlsx\")\n",
    "test = pd.read_excel(\"Test_dataset.xlsx\")"
   ]
  },
  {
   "cell_type": "code",
   "execution_count": 98,
   "metadata": {
    "colab": {},
    "colab_type": "code",
    "id": "d9uaqCnjoYuu"
   },
   "outputs": [],
   "source": [
    "train = train.drop([\"Name\",\"Occupation\"], axis = 1)\n",
    "test = test.drop([\"Name\",\"Occupation\"], axis = 1)"
   ]
  },
  {
   "cell_type": "code",
   "execution_count": 99,
   "metadata": {
    "colab": {
     "base_uri": "https://localhost:8080/",
     "height": 562
    },
    "colab_type": "code",
    "id": "vPw6IDaUob2l",
    "outputId": "d181ba86-9810-45b6-894d-f64a8027764d"
   },
   "outputs": [
    {
     "name": "stdout",
     "output_type": "stream",
     "text": [
      "<class 'pandas.core.frame.DataFrame'>\n",
      "RangeIndex: 10714 entries, 0 to 10713\n",
      "Data columns (total 26 columns):\n",
      "people_ID                 10714 non-null int64\n",
      "Region                    10714 non-null object\n",
      "Gender                    10714 non-null object\n",
      "Designation               10714 non-null object\n",
      "Married                   10714 non-null object\n",
      "Children                  10403 non-null float64\n",
      "Mode_transport            10711 non-null object\n",
      "cases/1M                  10714 non-null int64\n",
      "Deaths/1M                 10714 non-null int64\n",
      "comorbidity               10488 non-null object\n",
      "Age                       10714 non-null int64\n",
      "Coma score                10714 non-null int64\n",
      "Pulmonary score           10714 non-null object\n",
      "cardiological pressure    10617 non-null object\n",
      "Diuresis                  9998 non-null float64\n",
      "Platelets                 9790 non-null float64\n",
      "HBB                       10698 non-null float64\n",
      "d-dimer                   9600 non-null float64\n",
      "Heart rate                9600 non-null float64\n",
      "HDL cholesterol           10679 non-null float64\n",
      "Charlson Index            10714 non-null int64\n",
      "Blood Glucose             10714 non-null int64\n",
      "Insurance                 9624 non-null float64\n",
      "salary                    10714 non-null int64\n",
      "FT/month                  9991 non-null float64\n",
      "Infect_Prob               10714 non-null float64\n",
      "dtypes: float64(10), int64(8), object(8)\n",
      "memory usage: 2.1+ MB\n"
     ]
    }
   ],
   "source": [
    "train.info()"
   ]
  },
  {
   "cell_type": "code",
   "execution_count": 100,
   "metadata": {
    "colab": {},
    "colab_type": "code",
    "id": "2lTKGv07oh7Z"
   },
   "outputs": [],
   "source": [
    "train = train.replace('Male', 0)\n",
    "train = train.replace('Female', 1)\n",
    "train = train.replace('Mrs', 1)\n",
    "train = train.replace('Mr', 0)\n",
    "train = train.replace(\"YES\", 1)\n",
    "train = train.replace('NO', 0)\n",
    "test = test.replace('Male', 0)\n",
    "test = test.replace('Female', 1)\n",
    "test = test.replace('Mrs', 1)\n",
    "test = test.replace('Mr', 0)\n",
    "test = test.replace(\"YES\", 1)\n",
    "test = test.replace('NO', 0)"
   ]
  },
  {
   "cell_type": "code",
   "execution_count": 101,
   "metadata": {
    "colab": {
     "base_uri": "https://localhost:8080/",
     "height": 266
    },
    "colab_type": "code",
    "id": "eos8vcyAo30h",
    "outputId": "05ceedda-b678-4c18-8941-47bff131e577"
   },
   "outputs": [
    {
     "data": {
      "text/html": [
       "<div>\n",
       "<style scoped>\n",
       "    .dataframe tbody tr th:only-of-type {\n",
       "        vertical-align: middle;\n",
       "    }\n",
       "\n",
       "    .dataframe tbody tr th {\n",
       "        vertical-align: top;\n",
       "    }\n",
       "\n",
       "    .dataframe thead th {\n",
       "        text-align: right;\n",
       "    }\n",
       "</style>\n",
       "<table border=\"1\" class=\"dataframe\">\n",
       "  <thead>\n",
       "    <tr style=\"text-align: right;\">\n",
       "      <th></th>\n",
       "      <th>people_ID</th>\n",
       "      <th>Region</th>\n",
       "      <th>Gender</th>\n",
       "      <th>Designation</th>\n",
       "      <th>Married</th>\n",
       "      <th>Children</th>\n",
       "      <th>Mode_transport</th>\n",
       "      <th>cases/1M</th>\n",
       "      <th>Deaths/1M</th>\n",
       "      <th>comorbidity</th>\n",
       "      <th>...</th>\n",
       "      <th>HBB</th>\n",
       "      <th>d-dimer</th>\n",
       "      <th>Heart rate</th>\n",
       "      <th>HDL cholesterol</th>\n",
       "      <th>Charlson Index</th>\n",
       "      <th>Blood Glucose</th>\n",
       "      <th>Insurance</th>\n",
       "      <th>salary</th>\n",
       "      <th>FT/month</th>\n",
       "      <th>Infect_Prob</th>\n",
       "    </tr>\n",
       "  </thead>\n",
       "  <tbody>\n",
       "    <tr>\n",
       "      <th>0</th>\n",
       "      <td>1</td>\n",
       "      <td>Bhubaneshwar</td>\n",
       "      <td>1</td>\n",
       "      <td>1</td>\n",
       "      <td>1</td>\n",
       "      <td>1.0</td>\n",
       "      <td>Public</td>\n",
       "      <td>2</td>\n",
       "      <td>0</td>\n",
       "      <td>Hypertension</td>\n",
       "      <td>...</td>\n",
       "      <td>93.0</td>\n",
       "      <td>233.0</td>\n",
       "      <td>82.0</td>\n",
       "      <td>58.0</td>\n",
       "      <td>27</td>\n",
       "      <td>7</td>\n",
       "      <td>3600000.0</td>\n",
       "      <td>1300000</td>\n",
       "      <td>2.0</td>\n",
       "      <td>49.135010</td>\n",
       "    </tr>\n",
       "    <tr>\n",
       "      <th>1</th>\n",
       "      <td>2</td>\n",
       "      <td>Bhubaneshwar</td>\n",
       "      <td>1</td>\n",
       "      <td>1</td>\n",
       "      <td>1</td>\n",
       "      <td>2.0</td>\n",
       "      <td>Walk</td>\n",
       "      <td>2</td>\n",
       "      <td>0</td>\n",
       "      <td>Diabetes</td>\n",
       "      <td>...</td>\n",
       "      <td>56.0</td>\n",
       "      <td>328.0</td>\n",
       "      <td>89.0</td>\n",
       "      <td>68.0</td>\n",
       "      <td>5</td>\n",
       "      <td>6</td>\n",
       "      <td>1600000.0</td>\n",
       "      <td>400000</td>\n",
       "      <td>1.0</td>\n",
       "      <td>51.147880</td>\n",
       "    </tr>\n",
       "    <tr>\n",
       "      <th>2</th>\n",
       "      <td>3</td>\n",
       "      <td>Bhubaneshwar</td>\n",
       "      <td>1</td>\n",
       "      <td>1</td>\n",
       "      <td>0</td>\n",
       "      <td>1.0</td>\n",
       "      <td>Public</td>\n",
       "      <td>2</td>\n",
       "      <td>0</td>\n",
       "      <td>None</td>\n",
       "      <td>...</td>\n",
       "      <td>137.0</td>\n",
       "      <td>213.0</td>\n",
       "      <td>77.0</td>\n",
       "      <td>43.0</td>\n",
       "      <td>40</td>\n",
       "      <td>6</td>\n",
       "      <td>3400000.0</td>\n",
       "      <td>900000</td>\n",
       "      <td>1.0</td>\n",
       "      <td>73.224000</td>\n",
       "    </tr>\n",
       "    <tr>\n",
       "      <th>3</th>\n",
       "      <td>4</td>\n",
       "      <td>Bhubaneshwar</td>\n",
       "      <td>1</td>\n",
       "      <td>1</td>\n",
       "      <td>1</td>\n",
       "      <td>1.0</td>\n",
       "      <td>Car</td>\n",
       "      <td>2</td>\n",
       "      <td>0</td>\n",
       "      <td>Coronary Heart Disease</td>\n",
       "      <td>...</td>\n",
       "      <td>167.0</td>\n",
       "      <td>275.0</td>\n",
       "      <td>64.0</td>\n",
       "      <td>60.0</td>\n",
       "      <td>27</td>\n",
       "      <td>7</td>\n",
       "      <td>700000.0</td>\n",
       "      <td>2300000</td>\n",
       "      <td>1.0</td>\n",
       "      <td>48.779225</td>\n",
       "    </tr>\n",
       "    <tr>\n",
       "      <th>4</th>\n",
       "      <td>5</td>\n",
       "      <td>Bhubaneshwar</td>\n",
       "      <td>1</td>\n",
       "      <td>1</td>\n",
       "      <td>0</td>\n",
       "      <td>2.0</td>\n",
       "      <td>Car</td>\n",
       "      <td>2</td>\n",
       "      <td>0</td>\n",
       "      <td>Diabetes</td>\n",
       "      <td>...</td>\n",
       "      <td>153.0</td>\n",
       "      <td>331.0</td>\n",
       "      <td>71.0</td>\n",
       "      <td>64.0</td>\n",
       "      <td>32</td>\n",
       "      <td>7</td>\n",
       "      <td>3200000.0</td>\n",
       "      <td>1100000</td>\n",
       "      <td>1.0</td>\n",
       "      <td>87.868800</td>\n",
       "    </tr>\n",
       "  </tbody>\n",
       "</table>\n",
       "<p>5 rows × 26 columns</p>\n",
       "</div>"
      ],
      "text/plain": [
       "   people_ID        Region  Gender  Designation  Married  Children  \\\n",
       "0          1  Bhubaneshwar       1            1        1       1.0   \n",
       "1          2  Bhubaneshwar       1            1        1       2.0   \n",
       "2          3  Bhubaneshwar       1            1        0       1.0   \n",
       "3          4  Bhubaneshwar       1            1        1       1.0   \n",
       "4          5  Bhubaneshwar       1            1        0       2.0   \n",
       "\n",
       "  Mode_transport  cases/1M  Deaths/1M             comorbidity     ...       \\\n",
       "0         Public         2          0            Hypertension     ...        \n",
       "1           Walk         2          0                Diabetes     ...        \n",
       "2         Public         2          0                    None     ...        \n",
       "3            Car         2          0  Coronary Heart Disease     ...        \n",
       "4            Car         2          0                Diabetes     ...        \n",
       "\n",
       "     HBB  d-dimer Heart rate HDL cholesterol  Charlson Index  Blood Glucose  \\\n",
       "0   93.0    233.0       82.0            58.0              27              7   \n",
       "1   56.0    328.0       89.0            68.0               5              6   \n",
       "2  137.0    213.0       77.0            43.0              40              6   \n",
       "3  167.0    275.0       64.0            60.0              27              7   \n",
       "4  153.0    331.0       71.0            64.0              32              7   \n",
       "\n",
       "   Insurance   salary  FT/month  Infect_Prob  \n",
       "0  3600000.0  1300000       2.0    49.135010  \n",
       "1  1600000.0   400000       1.0    51.147880  \n",
       "2  3400000.0   900000       1.0    73.224000  \n",
       "3   700000.0  2300000       1.0    48.779225  \n",
       "4  3200000.0  1100000       1.0    87.868800  \n",
       "\n",
       "[5 rows x 26 columns]"
      ]
     },
     "execution_count": 101,
     "metadata": {},
     "output_type": "execute_result"
    }
   ],
   "source": [
    "train.head()"
   ]
  },
  {
   "cell_type": "code",
   "execution_count": 102,
   "metadata": {
    "colab": {},
    "colab_type": "code",
    "id": "xEmDqHF5pitV"
   },
   "outputs": [],
   "source": [
    "train = train.replace('Chennai',4)\n",
    "train = train.replace('Bengaluru',3)\n",
    "train = train.replace('Chandigarh',2)\n",
    "train = train.replace('Bhubaneshwar',1)\n",
    "train = train.replace('Delhi',0)\n",
    "test = test.replace('Chennai',4)\n",
    "test = test.replace('Bengaluru',3)\n",
    "test = test.replace('Chandigarh',2)\n",
    "test = test.replace('Bhubaneshwar',1)\n",
    "test = test.replace('Delhi',0)\n",
    "test = test.replace('')"
   ]
  },
  {
   "cell_type": "code",
   "execution_count": 103,
   "metadata": {
    "colab": {},
    "colab_type": "code",
    "id": "P8ApJ49xssU-"
   },
   "outputs": [],
   "source": [
    "train = train.drop(['comorbidity', 'cardiological pressure'], axis = 1)\n",
    "test = test.drop(['comorbidity', 'cardiological pressure'], axis = 1)"
   ]
  },
  {
   "cell_type": "code",
   "execution_count": 104,
   "metadata": {
    "colab": {},
    "colab_type": "code",
    "id": "DhQsEjaQtL5p"
   },
   "outputs": [],
   "source": [
    "train = train.replace('Public', 2)\n",
    "train = train.replace('Walk', 1)\n",
    "train = train.replace('Car', 0) \n",
    "test = test.replace('Public', 2)\n",
    "test = test.replace('Walk', 1)\n",
    "test = test.replace('Car', 0) "
   ]
  },
  {
   "cell_type": "code",
   "execution_count": 105,
   "metadata": {
    "colab": {},
    "colab_type": "code",
    "id": "bB-TymV5tp4i"
   },
   "outputs": [],
   "source": [
    "train = train.replace(\"<400\",400)\n",
    "train = train.replace(\"<300\",300)\n",
    "train = train.replace(\"<200\",200)\n",
    "train = train.replace(\"<100\",100)\n",
    "test = test.replace(\"<400\",400)\n",
    "test = test.replace(\"<300\",300)\n",
    "test = test.replace(\"<200\",200)\n",
    "test = test.replace(\"<100\",100)\n"
   ]
  },
  {
   "cell_type": "code",
   "execution_count": 106,
   "metadata": {
    "colab": {},
    "colab_type": "code",
    "id": "osVgEsQiujww"
   },
   "outputs": [],
   "source": [
    "train['Children'] = train['Children'].fillna(np.mean(train[\"Children\"]))\n",
    "train['Mode_transport'] = train['Mode_transport'].fillna(np.mean(train[\"Mode_transport\"]))\n",
    "train['Diuresis'] = train['Diuresis'].fillna(np.mean(train[\"Diuresis\"]))\n",
    "train['Platelets'] = train['Platelets'].fillna(np.mean(train[\"Platelets\"]))\n",
    "train['HBB'] = train['HBB'].fillna(np.mean(train[\"HBB\"]))\n",
    "train['d-dimer'] = train['d-dimer'].fillna(np.mean(train[\"d-dimer\"]))\n",
    "train['Heart rate'] = train['Heart rate'].fillna(np.mean(train[\"Heart rate\"]))\n",
    "train['HDL cholesterol'] = train['HDL cholesterol'].fillna(np.mean(train[\"HDL cholesterol\"]))\n",
    "train['Insurance'] = train['Insurance'].fillna(np.mean(train[\"Insurance\"]))\n",
    "train['FT/month'] = train['FT/month'].fillna(np.mean(train[\"FT/month\"]))"
   ]
  },
  {
   "cell_type": "code",
   "execution_count": 107,
   "metadata": {
    "colab": {
     "base_uri": "https://localhost:8080/",
     "height": 1000
    },
    "colab_type": "code",
    "id": "nJwkNIfuuykv",
    "outputId": "3570cfcf-395b-4039-d397-c25ce4b3510a"
   },
   "outputs": [
    {
     "name": "stdout",
     "output_type": "stream",
     "text": [
      "<class 'pandas.core.frame.DataFrame'>\n",
      "RangeIndex: 10714 entries, 0 to 10713\n",
      "Data columns (total 24 columns):\n",
      "people_ID          10714 non-null int64\n",
      "Region             10714 non-null int64\n",
      "Gender             10714 non-null int64\n",
      "Designation        10714 non-null int64\n",
      "Married            10714 non-null int64\n",
      "Children           10714 non-null float64\n",
      "Mode_transport     10714 non-null float64\n",
      "cases/1M           10714 non-null int64\n",
      "Deaths/1M          10714 non-null int64\n",
      "Age                10714 non-null int64\n",
      "Coma score         10714 non-null int64\n",
      "Pulmonary score    10714 non-null int64\n",
      "Diuresis           10714 non-null float64\n",
      "Platelets          10714 non-null float64\n",
      "HBB                10714 non-null float64\n",
      "d-dimer            10714 non-null float64\n",
      "Heart rate         10714 non-null float64\n",
      "HDL cholesterol    10714 non-null float64\n",
      "Charlson Index     10714 non-null int64\n",
      "Blood Glucose      10714 non-null int64\n",
      "Insurance          10714 non-null float64\n",
      "salary             10714 non-null int64\n",
      "FT/month           10714 non-null float64\n",
      "Infect_Prob        10714 non-null float64\n",
      "dtypes: float64(11), int64(13)\n",
      "memory usage: 2.0 MB\n",
      "---------------------------------\n",
      "<class 'pandas.core.frame.DataFrame'>\n",
      "RangeIndex: 14498 entries, 0 to 14497\n",
      "Data columns (total 23 columns):\n",
      "people_ID          14498 non-null int64\n",
      "Region             14498 non-null object\n",
      "Gender             14498 non-null int64\n",
      "Designation        14498 non-null int64\n",
      "Married            14498 non-null int64\n",
      "Children           14498 non-null int64\n",
      "Mode_transport     14498 non-null int64\n",
      "cases/1M           14498 non-null int64\n",
      "Deaths/1M          14498 non-null int64\n",
      "Age                14498 non-null int64\n",
      "Coma score         14498 non-null int64\n",
      "Pulmonary score    14498 non-null int64\n",
      "Diuresis           14498 non-null int64\n",
      "Platelets          14498 non-null int64\n",
      "HBB                14498 non-null int64\n",
      "d-dimer            14498 non-null int64\n",
      "Heart rate         14498 non-null int64\n",
      "HDL cholesterol    14498 non-null int64\n",
      "Charlson Index     14498 non-null int64\n",
      "Blood Glucose      14498 non-null int64\n",
      "Insurance          14498 non-null int64\n",
      "salary             14498 non-null int64\n",
      "FT/month           14498 non-null int64\n",
      "dtypes: int64(22), object(1)\n",
      "memory usage: 2.5+ MB\n",
      "----------------------------------\n"
     ]
    },
    {
     "data": {
      "text/plain": [
       "(14498, 23)"
      ]
     },
     "execution_count": 107,
     "metadata": {},
     "output_type": "execute_result"
    }
   ],
   "source": [
    "train.info()\n",
    "print(\"---------------------------------\")\n",
    "test.info()\n",
    "print(\"----------------------------------\")\n",
    "test.shape"
   ]
  },
  {
   "cell_type": "code",
   "execution_count": 108,
   "metadata": {
    "colab": {},
    "colab_type": "code",
    "id": "aJu1B6aFGTMl"
   },
   "outputs": [],
   "source": [
    "y_train = train.iloc[:,-1].values\n"
   ]
  },
  {
   "cell_type": "code",
   "execution_count": 109,
   "metadata": {
    "colab": {},
    "colab_type": "code",
    "id": "dQohlueNGTMp"
   },
   "outputs": [],
   "source": [
    "x_train = train.iloc[:,0:-1].values"
   ]
  },
  {
   "cell_type": "code",
   "execution_count": 110,
   "metadata": {
    "colab": {},
    "colab_type": "code",
    "id": "6TsMaNWdGTMs",
    "outputId": "db6d0385-c63f-42d5-dda0-862621a34c1d"
   },
   "outputs": [
    {
     "data": {
      "text/plain": [
       "array([[1.0000e+00, 1.0000e+00, 1.0000e+00, ..., 3.6000e+06, 1.3000e+06,\n",
       "        2.0000e+00],\n",
       "       [2.0000e+00, 1.0000e+00, 1.0000e+00, ..., 1.6000e+06, 4.0000e+05,\n",
       "        1.0000e+00],\n",
       "       [3.0000e+00, 1.0000e+00, 1.0000e+00, ..., 3.4000e+06, 9.0000e+05,\n",
       "        1.0000e+00],\n",
       "       ...,\n",
       "       [2.2693e+04, 3.0000e+00, 0.0000e+00, ..., 3.0000e+06, 2.1000e+06,\n",
       "        2.0000e+00],\n",
       "       [2.2694e+04, 3.0000e+00, 0.0000e+00, ..., 2.9000e+06, 7.0000e+05,\n",
       "        1.0000e+00],\n",
       "       [2.2695e+04, 3.0000e+00, 0.0000e+00, ..., 2.1000e+06, 1.4000e+06,\n",
       "        0.0000e+00]])"
      ]
     },
     "execution_count": 110,
     "metadata": {},
     "output_type": "execute_result"
    }
   ],
   "source": [
    "x_train"
   ]
  },
  {
   "cell_type": "code",
   "execution_count": 111,
   "metadata": {
    "colab": {},
    "colab_type": "code",
    "id": "fQfZdm6LGTMy"
   },
   "outputs": [],
   "source": [
    "#sc = StandardScaler()"
   ]
  },
  {
   "cell_type": "code",
   "execution_count": 112,
   "metadata": {
    "colab": {},
    "colab_type": "code",
    "id": "rwaSoGFEGTM1"
   },
   "outputs": [],
   "source": [
    "#x_train = sc.fit_transform(x_train)"
   ]
  },
  {
   "cell_type": "code",
   "execution_count": 113,
   "metadata": {
    "colab": {},
    "colab_type": "code",
    "id": "QqXgMo_7GTM_"
   },
   "outputs": [],
   "source": [
    "#y_train = sc.fit_transform(y_train.reshape(-1,1))"
   ]
  },
  {
   "cell_type": "code",
   "execution_count": 114,
   "metadata": {
    "colab": {},
    "colab_type": "code",
    "id": "t-2if5tmGTNK"
   },
   "outputs": [],
   "source": [
    "reg=LinearRegression().fit(x_train,y_train)"
   ]
  },
  {
   "cell_type": "code",
   "execution_count": 115,
   "metadata": {
    "colab": {},
    "colab_type": "code",
    "id": "tJOaaQyUGTNN",
    "outputId": "bedf1c25-bb46-4f4c-a39a-399452156186"
   },
   "outputs": [],
   "source": [
    "test = test.replace('Hyderabad', 0)\n",
    "test = test.replace('Kolkata', 1)\n",
    "test = test.replace('Mumbai', 4)\n",
    "test = test.replace(\"Pune\",3)\n",
    "test = test.replace(\"Thiruvananthapuram\",2)"
   ]
  },
  {
   "cell_type": "code",
   "execution_count": 116,
   "metadata": {
    "colab": {},
    "colab_type": "code",
    "id": "ELLeye-SGTNU"
   },
   "outputs": [],
   "source": [
    "pred = reg.predict(test)"
   ]
  },
  {
   "cell_type": "code",
   "execution_count": 117,
   "metadata": {
    "colab": {},
    "colab_type": "code",
    "id": "aelCOmV3GTNW",
    "outputId": "f386925c-ab1c-4a51-87f3-a4b219953b9e"
   },
   "outputs": [
    {
     "data": {
      "text/plain": [
       "array([52.69007962, 52.20857262, 50.93073641, ..., 51.6609252 ,\n",
       "       51.18815073, 51.95950842])"
      ]
     },
     "execution_count": 117,
     "metadata": {},
     "output_type": "execute_result"
    }
   ],
   "source": [
    "pred"
   ]
  },
  {
   "cell_type": "code",
   "execution_count": 118,
   "metadata": {
    "colab": {},
    "colab_type": "code",
    "id": "8T-RL9AtGTNg"
   },
   "outputs": [],
   "source": [
    "pred_df = pd.DataFrame(pred)"
   ]
  },
  {
   "cell_type": "code",
   "execution_count": 120,
   "metadata": {
    "colab": {},
    "colab_type": "code",
    "id": "epstSTlYHzyD"
   },
   "outputs": [],
   "source": [
    "pred_df.to_csv(r'predictions.csv', index=False)"
   ]
  },
  {
   "cell_type": "code",
   "execution_count": null,
   "metadata": {},
   "outputs": [],
   "source": []
  }
 ],
 "metadata": {
  "colab": {
   "name": "covid_19.ipynb",
   "provenance": [],
   "toc_visible": true
  },
  "kernelspec": {
   "display_name": "Python 3",
   "language": "python",
   "name": "python3"
  },
  "language_info": {
   "codemirror_mode": {
    "name": "ipython",
    "version": 3
   },
   "file_extension": ".py",
   "mimetype": "text/x-python",
   "name": "python",
   "nbconvert_exporter": "python",
   "pygments_lexer": "ipython3",
   "version": "3.7.1"
  }
 },
 "nbformat": 4,
 "nbformat_minor": 1
}
